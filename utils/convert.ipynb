{
 "cells": [
  {
   "cell_type": "code",
   "execution_count": 1,
   "metadata": {},
   "outputs": [],
   "source": [
    "from coco import COCO\n",
    "from yolo import YOLO\n",
    "from xml_detection import XML"
   ]
  },
  {
   "cell_type": "markdown",
   "metadata": {},
   "source": [
    "# isat2coco"
   ]
  },
  {
   "cell_type": "code",
   "execution_count": 2,
   "metadata": {},
   "outputs": [
    {
     "name": "stderr",
     "output_type": "stream",
     "text": [
      "Load ISAT from 000000100723.json: 100%|█████████| 5/5 [00:00<00:00, 1456.36it/s]\n",
      "Integrate 000000100723: 100%|███████████████████| 5/5 [00:00<00:00, 2926.53it/s]"
     ]
    },
    {
     "name": "stdout",
     "output_type": "stream",
     "text": [
      "Save COCO json finished.\n"
     ]
    },
    {
     "name": "stderr",
     "output_type": "stream",
     "text": [
      "\n"
     ]
    },
    {
     "data": {
      "text/plain": [
       "<coco.COCO at 0x7f9bcd596760>"
      ]
     },
     "execution_count": 2,
     "metadata": {},
     "output_type": "execute_result"
    }
   ],
   "source": [
    "cc = COCO()\n",
    "cc.read_from_ISAT('coco_tiny/isat/')\n",
    "cc.save_to_coco('coco_tiny/isat2coco.json')"
   ]
  },
  {
   "cell_type": "markdown",
   "metadata": {},
   "source": [
    "# coco2isat"
   ]
  },
  {
   "cell_type": "code",
   "execution_count": 3,
   "metadata": {},
   "outputs": [
    {
     "name": "stdout",
     "output_type": "stream",
     "text": [
      "loading annotations into memory...\n",
      "Done (t=0.00s)\n",
      "creating index...\n",
      "index created!\n"
     ]
    },
    {
     "name": "stderr",
     "output_type": "stream",
     "text": [
      "Load COCO with image id 76261: 100%|█████████████| 5/5 [00:00<00:00, 896.10it/s]\n",
      "Save ISAT to 000000100723.json: 100%|████████████| 5/5 [00:00<00:00, 594.63it/s]\n"
     ]
    },
    {
     "data": {
      "text/plain": [
       "<coco.COCO at 0x7f9bccca1df0>"
      ]
     },
     "execution_count": 3,
     "metadata": {},
     "output_type": "execute_result"
    }
   ],
   "source": [
    "cc = COCO()\n",
    "cc.read_from_coco('coco_tiny/coco_tiny.json')\n",
    "cc.save_to_ISAT('coco_tiny/coco2isat')"
   ]
  },
  {
   "cell_type": "markdown",
   "metadata": {},
   "source": [
    "# isat2yolo"
   ]
  },
  {
   "cell_type": "code",
   "execution_count": 4,
   "metadata": {},
   "outputs": [
    {
     "name": "stderr",
     "output_type": "stream",
     "text": [
      "Load ISAT from 000000100723.json: 100%|█████████| 5/5 [00:00<00:00, 1554.37it/s]\n",
      "Save yolo to 000000100723.txt: 100%|█████████████| 5/5 [00:00<00:00, 658.57it/s]\n"
     ]
    }
   ],
   "source": [
    "yl = YOLO()\n",
    "yl.read_from_ISAT('coco_tiny/isat/')\n",
    "yl.save_to_YOLO('coco_tiny/isat2yolo')"
   ]
  },
  {
   "cell_type": "markdown",
   "metadata": {},
   "source": [
    "# yolo2isat"
   ]
  },
  {
   "cell_type": "code",
   "execution_count": 5,
   "metadata": {},
   "outputs": [
    {
     "name": "stderr",
     "output_type": "stream",
     "text": [
      "Load yolo txt 000000100723.txt: 100%|████████████| 5/5 [00:00<00:00, 254.58it/s]\n",
      "Save ISAT to 000000100723.json: 100%|████████████| 5/5 [00:00<00:00, 887.91it/s]\n"
     ]
    },
    {
     "data": {
      "text/plain": [
       "<yolo.YOLO at 0x7f9bccca1e20>"
      ]
     },
     "execution_count": 5,
     "metadata": {},
     "output_type": "execute_result"
    }
   ],
   "source": [
    "yl = YOLO()\n",
    "yl.read_from_YOLO(img_root='coco_tiny/images/',txt_root='coco_tiny/yolo/', class_dict=None)\n",
    "yl.save_to_ISAT('coco_tiny/yolo2isat')"
   ]
  },
  {
   "cell_type": "markdown",
   "metadata": {},
   "source": [
    "# isat2xml - for object detection"
   ]
  },
  {
   "cell_type": "code",
   "execution_count": 6,
   "metadata": {},
   "outputs": [
    {
     "name": "stderr",
     "output_type": "stream",
     "text": [
      "Load ISAT from 000000100723.json: 100%|█████████| 5/5 [00:00<00:00, 1591.52it/s]\n",
      "Save xml to 000000100723.xml: 100%|█████████████| 5/5 [00:00<00:00, 1675.58it/s]\n"
     ]
    }
   ],
   "source": [
    "xml = XML()\n",
    "xml.read_from_ISAT('coco_tiny/isat/')\n",
    "xml.save_to_XML('coco_tiny/isat2xml')"
   ]
  },
  {
   "cell_type": "code",
   "execution_count": null,
   "metadata": {},
   "outputs": [],
   "source": []
  }
 ],
 "metadata": {
  "kernelspec": {
   "display_name": "Python 3 (ipykernel)",
   "language": "python",
   "name": "python3"
  },
  "language_info": {
   "codemirror_mode": {
    "name": "ipython",
    "version": 3
   },
   "file_extension": ".py",
   "mimetype": "text/x-python",
   "name": "python",
   "nbconvert_exporter": "python",
   "pygments_lexer": "ipython3",
   "version": "3.9.12"
  }
 },
 "nbformat": 4,
 "nbformat_minor": 5
}

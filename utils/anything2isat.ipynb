{
 "cells": [
  {
   "cell_type": "markdown",
   "metadata": {
    "jp-MarkdownHeadingCollapsed": true
   },
   "source": [
    "## MSCOCO json to ISAT"
   ]
  },
  {
   "cell_type": "code",
   "execution_count": 1,
   "metadata": {},
   "outputs": [],
   "source": [
    "from anything2isat import Anything2ISAT\n",
    "Anything2ISAT(images_dir='coco test//images',\n",
    "              annotations_dir='coco test',\n",
    "              output_dir='coco test//isat_labels').from_coco()"
   ]
  },
  {
   "cell_type": "markdown",
   "metadata": {},
   "source": [
    "## YOLO-Seg txt to ISAT"
   ]
  },
  {
   "cell_type": "markdown",
   "metadata": {},
   "source": [
    "Requires class dictionary mapping such as {0: 'human', 1: 'bike'}"
   ]
  },
  {
   "cell_type": "code",
   "execution_count": 2,
   "metadata": {},
   "outputs": [],
   "source": [
    "from anything2isat import Anything2ISAT\n",
    "Anything2ISAT(images_dir='yolo test//images',\n",
    "              annotations_dir='yolo test//labels',\n",
    "              output_dir='yolo test//isat_labels').from_yolo_seg(class_dictionary={0: 'any-object'})"
   ]
  }
 ],
 "metadata": {
  "colab": {
   "provenance": []
  },
  "kernelspec": {
   "display_name": "Python 3 (ipykernel)",
   "language": "python",
   "name": "python3"
  },
  "language_info": {
   "codemirror_mode": {
    "name": "ipython",
    "version": 3
   },
   "file_extension": ".py",
   "mimetype": "text/x-python",
   "name": "python",
   "nbconvert_exporter": "python",
   "pygments_lexer": "ipython3",
   "version": "3.8.17"
  }
 },
 "nbformat": 4,
 "nbformat_minor": 4
}
